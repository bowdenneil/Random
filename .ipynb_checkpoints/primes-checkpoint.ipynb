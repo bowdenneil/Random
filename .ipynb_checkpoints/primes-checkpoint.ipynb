{
 "cells": [
  {
   "cell_type": "code",
   "execution_count": 18,
   "metadata": {},
   "outputs": [
    {
     "data": {
      "text/plain": [
       "[5, 5, 5, 5]"
      ]
     },
     "execution_count": 18,
     "metadata": {},
     "output_type": "execute_result"
    }
   ],
   "source": [
    "def get_prime_factors(number):\n",
    "    factors = []\n",
    "    divisor = 2\n",
    "\n",
    "    while divisor <=number:\n",
    "        if number % divisor ==0:\n",
    "            factors.append(divisor)\n",
    "            number = number // divisor\n",
    "        else:\n",
    "            divisor +=1\n",
    "    return factors\n",
    "\n",
    "get_prime_factors(625)\n"
   ]
  },
  {
   "cell_type": "code",
   "execution_count": 23,
   "metadata": {},
   "outputs": [
    {
     "data": {
      "text/plain": [
       "True"
      ]
     },
     "execution_count": 23,
     "metadata": {},
     "output_type": "execute_result"
    }
   ],
   "source": [
    "import re\n",
    "\n",
    "def is_palindrome(phrase):\n",
    "    forwards = ''.join(re.findall(r'[a-z]+', phrase.lower()))\n",
    "    backwards = forwards[::-1]\n",
    "    return forwards == backwards\n",
    "\n",
    "is_palindrome(\"I am the very model\") \n",
    "is_palindrome(\"This siht\")"
   ]
  },
  {
   "cell_type": "code",
   "execution_count": 30,
   "metadata": {},
   "outputs": [
    {
     "data": {
      "text/plain": [
       "'apple banana orange'"
      ]
     },
     "execution_count": 30,
     "metadata": {},
     "output_type": "execute_result"
    }
   ],
   "source": [
    "def sort_words(input):\n",
    "    words = input.split()\n",
    "    words = [w.lower() + w for w in words]\n",
    "    words.sort()\n",
    "    words = [w[len(w)//2:] for w in words]\n",
    "    return ' '.join(words)\n",
    "\n",
    "\n",
    "sort_words(\"banana apple orange\")\n"
   ]
  }
 ],
 "metadata": {
  "kernelspec": {
   "display_name": "Python 3 (ipykernel)",
   "language": "python",
   "name": "python3"
  },
  "language_info": {
   "codemirror_mode": {
    "name": "ipython",
    "version": 3
   },
   "file_extension": ".py",
   "mimetype": "text/x-python",
   "name": "python",
   "nbconvert_exporter": "python",
   "pygments_lexer": "ipython3",
   "version": "3.10.8"
  },
  "orig_nbformat": 4
 },
 "nbformat": 4,
 "nbformat_minor": 2
}
